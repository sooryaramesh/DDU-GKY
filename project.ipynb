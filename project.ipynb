{
 "cells": [
  {
   "cell_type": "markdown",
   "id": "fc13c885",
   "metadata": {},
   "source": [
    "### Python Project1-\n",
    "#### Design a Hospital Management System using Python classes to keep track of patient information, appointments, and billing. Your system should allow the addition of patients, doctors, scheduling appointments, generating bills, and maintaining records. Provide the necessary classes and methods to implement this system effectively."
   ]
  },
  {
   "cell_type": "code",
   "execution_count": 9,
   "id": "eadf621c",
   "metadata": {},
   "outputs": [
    {
     "name": "stdout",
     "output_type": "stream",
     "text": [
      "Patient 1 Bill: 500\n",
      "Patient 2 Bill: 800\n"
     ]
    }
   ],
   "source": [
    "class patients:\n",
    "    def __init__(self,name,age,gender,contact):\n",
    "        self.name=name\n",
    "        self.age=age\n",
    "        self.gender=gender\n",
    "        self.contact=contact\n",
    "        self.appointments=[]\n",
    "        \n",
    "    def scheduling_appointments(self):\n",
    "        appointment=Appointment(self,doctor,date,time)\n",
    "        self.appointments.append(appointment)\n",
    "        \n",
    "    def generating_bills(self):\n",
    "        total_amount=0\n",
    "        for appointment in self.appointments:\n",
    "            total_amount=total_amount+appointment.doctor.visit_fee\n",
    "        return total_amount\n",
    "    \n",
    "class Doctor:\n",
    "    def __init__(self,name,specialization,visit_fee):\n",
    "        self.name=name\n",
    "        self.specialization=specialization\n",
    "        self.visit_fee=visit_fee\n",
    "        self.appointments=[]\n",
    "        \n",
    "    def scheduling_appointments(self,patient,date,time):\n",
    "        appointment=Appointmnet(self,date,time)\n",
    "        patient.appointments.append(appointment)\n",
    "        self.appointments.append(appointment)\n",
    "        \n",
    "class Appointments:\n",
    "    def __init__(self,doctor,date,time):\n",
    "        self.doctor=doctor\n",
    "        self.date=date\n",
    "        self.time=time\n",
    "        \n",
    "class Hospital:\n",
    "    def __init__(self,name):\n",
    "        self.name=name\n",
    "        self.doctors=[]\n",
    "        self.patients=[]\n",
    "        \n",
    "    def add_patient(self, name, age, gender, contact):\n",
    "        patient = Patient(name, age, gender, contact)\n",
    "        self.patients.append(patient)\n",
    "        return patient\n",
    "    \n",
    "    def add_doctor(self, name, specialization, visit_fee):\n",
    "        doctor = Doctor(name, specialization, visit_fee)\n",
    "        self.doctors.append(doctor)\n",
    "        return doctor\n",
    "    \n",
    "hospital=Hospital(\"sunrise hospital\")  \n",
    "doctor1=hospital.add_doctor(\"Dr.sethu\",\"cardiology\",500)\n",
    "doctor2=hospital.add_doctor(\"Dr.Shanfeer\",\"Gynacology\",800)\n",
    "\n",
    "patient1 = hospital.add_patient(\"Alice\", 24, \"Female\", \"23-06-1999\")\n",
    "patient2 = hospital.add_patient(\"gopu\", 25, \"female\", \"7-04-2010\")\n",
    "\n",
    "patient1.schedule_appointment(doctor1, \"2023-08-15\", \"10:00 AM\")\n",
    "patient2.schedule_appointment(doctor2, \"2023-08-16\", \"2:30 PM\")\n",
    "\n",
    "\n",
    "print(\"Patient 1 Bill:\", patient1.generate_bill())\n",
    "print(\"Patient 2 Bill:\", patient2.generate_bill())\n",
    "    \n",
    "        "
   ]
  },
  {
   "cell_type": "code",
   "execution_count": null,
   "id": "a65b5399",
   "metadata": {},
   "outputs": [],
   "source": []
  }
 ],
 "metadata": {
  "kernelspec": {
   "display_name": "Python 3 (ipykernel)",
   "language": "python",
   "name": "python3"
  },
  "language_info": {
   "codemirror_mode": {
    "name": "ipython",
    "version": 3
   },
   "file_extension": ".py",
   "mimetype": "text/x-python",
   "name": "python",
   "nbconvert_exporter": "python",
   "pygments_lexer": "ipython3",
   "version": "3.9.13"
  }
 },
 "nbformat": 4,
 "nbformat_minor": 5
}

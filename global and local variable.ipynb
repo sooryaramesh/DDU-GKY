{
 "cells": [
  {
   "cell_type": "markdown",
   "id": "03c60372",
   "metadata": {},
   "source": [
    "### 1. global"
   ]
  },
  {
   "cell_type": "code",
   "execution_count": 2,
   "id": "92086c6b",
   "metadata": {},
   "outputs": [
    {
     "name": "stdout",
     "output_type": "stream",
     "text": [
      "5\n"
     ]
    }
   ],
   "source": [
    "x=5\n",
    "def function1():\n",
    "    print(x)\n",
    "function1()"
   ]
  },
  {
   "cell_type": "markdown",
   "id": "cf9dab4f",
   "metadata": {},
   "source": [
    "### 2.local"
   ]
  },
  {
   "cell_type": "code",
   "execution_count": 4,
   "id": "2c09202e",
   "metadata": {},
   "outputs": [
    {
     "name": "stdout",
     "output_type": "stream",
     "text": [
      "5\n"
     ]
    }
   ],
   "source": [
    "def function1():\n",
    "    y=5\n",
    "    print(y)\n",
    "function1()\n"
   ]
  },
  {
   "cell_type": "markdown",
   "id": "3e5ea3c0",
   "metadata": {},
   "source": [
    "### 3.local to global"
   ]
  },
  {
   "cell_type": "code",
   "execution_count": 5,
   "id": "eb99b98c",
   "metadata": {},
   "outputs": [
    {
     "name": "stdout",
     "output_type": "stream",
     "text": [
      "5\n"
     ]
    }
   ],
   "source": [
    "def function1():\n",
    "    global y\n",
    "    y=5\n",
    "    print(y)\n",
    "function1()\n"
   ]
  },
  {
   "cell_type": "code",
   "execution_count": 6,
   "id": "1c2871a3",
   "metadata": {},
   "outputs": [
    {
     "name": "stdout",
     "output_type": "stream",
     "text": [
      "ravi\n"
     ]
    }
   ],
   "source": [
    "def function2(person):\n",
    "    print(person)\n",
    "function2('ravi')"
   ]
  },
  {
   "cell_type": "code",
   "execution_count": 7,
   "id": "547744b0",
   "metadata": {},
   "outputs": [
    {
     "name": "stdout",
     "output_type": "stream",
     "text": [
      "appu\n"
     ]
    }
   ],
   "source": [
    "def function2(*person):\n",
    "    print(person[3])\n",
    "function2('ravi','ramu','ammu','appu')"
   ]
  },
  {
   "cell_type": "code",
   "execution_count": 11,
   "id": "081fe4a5",
   "metadata": {},
   "outputs": [
    {
     "name": "stdout",
     "output_type": "stream",
     "text": [
      "ravi\n"
     ]
    }
   ],
   "source": [
    "def function2(**person):\n",
    "    print(person['a'])\n",
    "function2(a='ravi',b='ramu',c='ammu',d='appu')"
   ]
  },
  {
   "cell_type": "code",
   "execution_count": 13,
   "id": "292f2fa6",
   "metadata": {},
   "outputs": [
    {
     "name": "stdout",
     "output_type": "stream",
     "text": [
      "achu\n"
     ]
    }
   ],
   "source": [
    "def function2(a,b,c,d):\n",
    "    print(d)\n",
    "function2(a='ravi',b='ramu',c='appu',d='achu')"
   ]
  },
  {
   "cell_type": "code",
   "execution_count": 14,
   "id": "4b092751",
   "metadata": {},
   "outputs": [
    {
     "name": "stdout",
     "output_type": "stream",
     "text": [
      "india\n",
      "china\n",
      "norway\n"
     ]
    }
   ],
   "source": [
    "def function3(country='norway'):\n",
    "    print(country)\n",
    "function3('india')\n",
    "function3('china')\n",
    "function3()"
   ]
  },
  {
   "cell_type": "markdown",
   "id": "b49a9e47",
   "metadata": {},
   "source": [
    "### recursive function"
   ]
  },
  {
   "cell_type": "code",
   "execution_count": 15,
   "id": "64cead45",
   "metadata": {},
   "outputs": [
    {
     "data": {
      "text/plain": [
       "9"
      ]
     },
     "execution_count": 15,
     "metadata": {},
     "output_type": "execute_result"
    }
   ],
   "source": [
    "def max_two(a,b):\n",
    "    return max(a,b)\n",
    "def max_three(a,b,c):\n",
    "    return max(a,max_two(b,c))\n",
    "max_two(3,5)\n",
    "max_three(5,8,9)"
   ]
  },
  {
   "cell_type": "markdown",
   "id": "9ec6f0c1",
   "metadata": {},
   "source": [
    "### permutation"
   ]
  },
  {
   "cell_type": "code",
   "execution_count": 17,
   "id": "3632d4b6",
   "metadata": {},
   "outputs": [
    {
     "name": "stdout",
     "output_type": "stream",
     "text": [
      "10.0\n"
     ]
    }
   ],
   "source": [
    "def factorial(n):\n",
    "    fact=1\n",
    "    for i in range(1,n+1):\n",
    "        fact=fact*i\n",
    "    return fact\n",
    "n=5\n",
    "r=3\n",
    "factorial(5)\n",
    "nCr=factorial(n)/(factorial(r)*factorial(n-r))\n",
    "print(nCr)"
   ]
  },
  {
   "cell_type": "markdown",
   "id": "04c3ee07",
   "metadata": {},
   "source": [
    "### quadratic equation"
   ]
  },
  {
   "cell_type": "code",
   "execution_count": 19,
   "id": "014685ab",
   "metadata": {},
   "outputs": [
    {
     "name": "stdout",
     "output_type": "stream",
     "text": [
      "enter the coeffcient of x**2:2\n",
      "enter the coeffcient of x:4\n",
      "enter the coefficient of c:2\n",
      "root is -4.0\n"
     ]
    }
   ],
   "source": [
    "from math import sqrt\n",
    "def descriminant(a,b,c):\n",
    "    return(b**2)-(4*a*c)\n",
    "def quadratic (a,b,c):\n",
    "    d=descriminant(a,b,c)\n",
    "    if d>0:\n",
    "        root1=((-b)+(sqrt(d))/(2*a))\n",
    "        root2=((-b)-(sqrt(d))/(2*a))\n",
    "        print(\"root are\",root1,\"and\",root2)\n",
    "    elif d==0:\n",
    "        root=(-b/2*a)\n",
    "        print('root is',root)\n",
    "    else:\n",
    "        print(\"no root\")\n",
    "a=int(input(\"enter the coeffcient of x**2:\"))\n",
    "b=int(input(\"enter the coeffcient of x:\"))\n",
    "c=int(input(\"enter the coefficient of c:\"))\n",
    "quadratic (a,b,c)"
   ]
  },
  {
   "cell_type": "code",
   "execution_count": null,
   "id": "e185999c",
   "metadata": {},
   "outputs": [],
   "source": []
  }
 ],
 "metadata": {
  "kernelspec": {
   "display_name": "Python 3 (ipykernel)",
   "language": "python",
   "name": "python3"
  },
  "language_info": {
   "codemirror_mode": {
    "name": "ipython",
    "version": 3
   },
   "file_extension": ".py",
   "mimetype": "text/x-python",
   "name": "python",
   "nbconvert_exporter": "python",
   "pygments_lexer": "ipython3",
   "version": "3.9.13"
  }
 },
 "nbformat": 4,
 "nbformat_minor": 5
}

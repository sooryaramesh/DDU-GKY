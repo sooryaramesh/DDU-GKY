{
 "cells": [
  {
   "cell_type": "markdown",
   "id": "239f5c35",
   "metadata": {},
   "source": [
    "### 1.Write a Python program to check that a string contains only a certain set of characters (in this case a-z, A-Z and 0-9)."
   ]
  },
  {
   "cell_type": "code",
   "execution_count": 2,
   "id": "ffcf54b2",
   "metadata": {},
   "outputs": [],
   "source": [
    "import re"
   ]
  },
  {
   "cell_type": "code",
   "execution_count": 3,
   "id": "6bf34979",
   "metadata": {
    "scrolled": true
   },
   "outputs": [
    {
     "name": "stdout",
     "output_type": "stream",
     "text": [
      "<re.Match object; span=(0, 6), match='ab1000'>\n"
     ]
    }
   ],
   "source": [
    "pattern = r\"[a-zA-Z0-9]+\"\n",
    "print(re.search(pattern,\"ab1000\"))"
   ]
  },
  {
   "cell_type": "markdown",
   "id": "2b21182a",
   "metadata": {},
   "source": [
    "### 2. Write a Python program that matches a string that has an a followed by zero or more b's"
   ]
  },
  {
   "cell_type": "code",
   "execution_count": 4,
   "id": "ca735e5c",
   "metadata": {},
   "outputs": [
    {
     "name": "stdout",
     "output_type": "stream",
     "text": [
      "<re.Match object; span=(0, 6), match='abbbbb'>\n"
     ]
    }
   ],
   "source": [
    "pattern=r'ab*'\n",
    "print(re.match(pattern,\"abbbbbfghur\"))"
   ]
  },
  {
   "cell_type": "markdown",
   "id": "e029cd90",
   "metadata": {},
   "source": [
    "### 3. Write a Python program that matches a string that has an a followed by one or more b's"
   ]
  },
  {
   "cell_type": "code",
   "execution_count": 5,
   "id": "48d27eb2",
   "metadata": {},
   "outputs": [
    {
     "name": "stdout",
     "output_type": "stream",
     "text": [
      "<re.Match object; span=(0, 6), match='abbbbb'>\n"
     ]
    }
   ],
   "source": [
    "pattern=r'ab+'\n",
    "print(re.match(pattern,\"abbbbbfghur\"))"
   ]
  },
  {
   "cell_type": "markdown",
   "id": "998b766c",
   "metadata": {},
   "source": [
    "### 4. Write a Python program that matches a string that has an a followed by zero or one b's"
   ]
  },
  {
   "cell_type": "code",
   "execution_count": 6,
   "id": "899e7d71",
   "metadata": {},
   "outputs": [
    {
     "name": "stdout",
     "output_type": "stream",
     "text": [
      "<re.Match object; span=(0, 2), match='ab'>\n"
     ]
    }
   ],
   "source": [
    "pattern=r'ab?'\n",
    "print(re.match(pattern,\"abbsssfg\"))"
   ]
  },
  {
   "cell_type": "markdown",
   "id": "7b0d79dd",
   "metadata": {},
   "source": [
    "### 5. Write a Python program that matches a string that has an a followed by three b's"
   ]
  },
  {
   "cell_type": "code",
   "execution_count": 7,
   "id": "cd239d13",
   "metadata": {},
   "outputs": [
    {
     "name": "stdout",
     "output_type": "stream",
     "text": [
      "<re.Match object; span=(0, 4), match='abbb'>\n"
     ]
    }
   ],
   "source": [
    "pattern=r'ab{3}'\n",
    "print(re.match(pattern,\"abbburos\"))"
   ]
  },
  {
   "cell_type": "markdown",
   "id": "f86bcdb7",
   "metadata": {},
   "source": [
    "#### 6. Write a Python program that matches a string that has an &#39;a&#39; followed by anything ending in b"
   ]
  },
  {
   "cell_type": "code",
   "execution_count": 8,
   "id": "e702d14b",
   "metadata": {},
   "outputs": [
    {
     "name": "stdout",
     "output_type": "stream",
     "text": [
      "<re.Match object; span=(0, 6), match='ah440b'>\n"
     ]
    }
   ],
   "source": [
    "pattern=r'a.*b$'\n",
    "print(re.match(pattern,\"ah440b\"))"
   ]
  },
  {
   "cell_type": "markdown",
   "id": "70c6d76c",
   "metadata": {},
   "source": [
    "### 7.Write a Python program that matches a word at the beginning of a string."
   ]
  },
  {
   "cell_type": "code",
   "execution_count": 13,
   "id": "8d9f70fc",
   "metadata": {},
   "outputs": [
    {
     "name": "stdout",
     "output_type": "stream",
     "text": [
      "['workshop dgdhg']\n"
     ]
    }
   ],
   "source": [
    "pattern=r'^\\w.*' \n",
    "print(re.findall(pattern,\"workshop dgdhg\"))\n"
   ]
  },
  {
   "cell_type": "markdown",
   "id": "4499d829",
   "metadata": {},
   "source": [
    "### 8. Write a Python program that matches a word containing z"
   ]
  },
  {
   "cell_type": "code",
   "execution_count": 14,
   "id": "464ce2a2",
   "metadata": {},
   "outputs": [
    {
     "name": "stdout",
     "output_type": "stream",
     "text": [
      "<re.Match object; span=(0, 3), match='zoo'>\n"
     ]
    }
   ],
   "source": [
    "pattern=r\"z\\w*\"\n",
    "print(re.match(pattern,\"zoo hfhfjhz gz\"))"
   ]
  },
  {
   "cell_type": "code",
   "execution_count": 26,
   "id": "256a167f",
   "metadata": {},
   "outputs": [
    {
     "name": "stdout",
     "output_type": "stream",
     "text": [
      "<re.Match object; span=(2, 3), match='z'>\n"
     ]
    }
   ],
   "source": [
    "pattern=r'\\Bz\\B'\n",
    "print(re.search(pattern,'sdzzfdf sfdfsdfzzgfh'))"
   ]
  },
  {
   "cell_type": "code",
   "execution_count": 22,
   "id": "01ffa447",
   "metadata": {},
   "outputs": [
    {
     "name": "stdout",
     "output_type": "stream",
     "text": [
      "['1000', '1000']\n"
     ]
    }
   ],
   "source": [
    "pattern=r\"\\b10{3}\\b\"\n",
    "print(re.findall(pattern,\"1000 abc1000 1000 10000\"))"
   ]
  },
  {
   "cell_type": "markdown",
   "id": "86f64747",
   "metadata": {},
   "source": [
    "#### 9. Write a Python program that matches a word containing &#39;z&#39;, not the start or end of the word."
   ]
  },
  {
   "cell_type": "code",
   "execution_count": 35,
   "id": "452b0c8b",
   "metadata": {},
   "outputs": [
    {
     "name": "stdout",
     "output_type": "stream",
     "text": [
      "<re.Match object; span=(3, 4), match='z'>\n"
     ]
    }
   ],
   "source": [
    "pattern=r'\\Bz\\B'\n",
    "print(re.search(pattern,'asdzfdh'))"
   ]
  },
  {
   "cell_type": "markdown",
   "id": "3e1ed28e",
   "metadata": {},
   "source": [
    "### 10. Write a Python program to match a string that contains only upper and lowercase letters,numbers, and underscores."
   ]
  },
  {
   "cell_type": "code",
   "execution_count": 36,
   "id": "86eb8345",
   "metadata": {},
   "outputs": [
    {
     "name": "stdout",
     "output_type": "stream",
     "text": [
      "<re.Match object; span=(0, 9), match='abc123XYZ'>\n"
     ]
    }
   ],
   "source": [
    "pattern = r\"^[a-zA-Z0-9_]+$\"\n",
    "print(re.match(pattern,'abc123XYZ'))              "
   ]
  },
  {
   "cell_type": "code",
   "execution_count": null,
   "id": "a6082940",
   "metadata": {},
   "outputs": [],
   "source": []
  },
  {
   "cell_type": "code",
   "execution_count": null,
   "id": "16bedf47",
   "metadata": {},
   "outputs": [],
   "source": []
  }
 ],
 "metadata": {
  "kernelspec": {
   "display_name": "Python 3 (ipykernel)",
   "language": "python",
   "name": "python3"
  },
  "language_info": {
   "codemirror_mode": {
    "name": "ipython",
    "version": 3
   },
   "file_extension": ".py",
   "mimetype": "text/x-python",
   "name": "python",
   "nbconvert_exporter": "python",
   "pygments_lexer": "ipython3",
   "version": "3.9.13"
  }
 },
 "nbformat": 4,
 "nbformat_minor": 5
}
